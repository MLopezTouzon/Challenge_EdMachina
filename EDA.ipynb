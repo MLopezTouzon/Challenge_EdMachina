{
 "cells": [
  {
   "cell_type": "code",
   "execution_count": 47,
   "metadata": {},
   "outputs": [],
   "source": [
    "import pandas as pd\n",
    "import matplotlib.pyplot as plt\n",
    "import numpy as np\n",
    "import seaborn as sns"
   ]
  },
  {
   "cell_type": "code",
   "execution_count": 4,
   "metadata": {},
   "outputs": [
    {
     "data": {
      "text/html": [
       "<div>\n",
       "<style scoped>\n",
       "    .dataframe tbody tr th:only-of-type {\n",
       "        vertical-align: middle;\n",
       "    }\n",
       "\n",
       "    .dataframe tbody tr th {\n",
       "        vertical-align: top;\n",
       "    }\n",
       "\n",
       "    .dataframe thead th {\n",
       "        text-align: right;\n",
       "    }\n",
       "</style>\n",
       "<table border=\"1\" class=\"dataframe\">\n",
       "  <thead>\n",
       "    <tr style=\"text-align: right;\">\n",
       "      <th></th>\n",
       "      <th>particion</th>\n",
       "      <th>periodo</th>\n",
       "      <th>nota_final_materia</th>\n",
       "      <th>fecha_mesa_epoch</th>\n",
       "      <th>nombre_examen</th>\n",
       "      <th>nota_parcial</th>\n",
       "      <th>assignment_id</th>\n",
       "      <th>ass_name</th>\n",
       "      <th>ass_created_at</th>\n",
       "      <th>ass_due_at</th>\n",
       "      <th>...</th>\n",
       "      <th>sub_uuid</th>\n",
       "      <th>score</th>\n",
       "      <th>submission_type</th>\n",
       "      <th>s_submitted_at</th>\n",
       "      <th>s_graded_at</th>\n",
       "      <th>s_created_at</th>\n",
       "      <th>user_uuid</th>\n",
       "      <th>course_uuid</th>\n",
       "      <th>course_name</th>\n",
       "      <th>legajo</th>\n",
       "    </tr>\n",
       "  </thead>\n",
       "  <tbody>\n",
       "    <tr>\n",
       "      <th>0</th>\n",
       "      <td>0</td>\n",
       "      <td>1-2022</td>\n",
       "      <td>9.0</td>\n",
       "      <td>NaN</td>\n",
       "      <td>NaN</td>\n",
       "      <td>NaN</td>\n",
       "      <td>NaN</td>\n",
       "      <td>NaN</td>\n",
       "      <td>NaN</td>\n",
       "      <td>NaN</td>\n",
       "      <td>...</td>\n",
       "      <td>NaN</td>\n",
       "      <td>NaN</td>\n",
       "      <td>NaN</td>\n",
       "      <td>NaN</td>\n",
       "      <td>NaN</td>\n",
       "      <td>NaN</td>\n",
       "      <td>13df535e-065c-4593-98ea-5b1e29015b7d</td>\n",
       "      <td>09614210-fce2-48bc-93e3-bc4bd441fe00</td>\n",
       "      <td>Progressive homogeneous structure</td>\n",
       "      <td>834066QFF</td>\n",
       "    </tr>\n",
       "    <tr>\n",
       "      <th>1</th>\n",
       "      <td>1</td>\n",
       "      <td>1-2022</td>\n",
       "      <td>9.0</td>\n",
       "      <td>NaN</td>\n",
       "      <td>NaN</td>\n",
       "      <td>NaN</td>\n",
       "      <td>NaN</td>\n",
       "      <td>NaN</td>\n",
       "      <td>NaN</td>\n",
       "      <td>NaN</td>\n",
       "      <td>...</td>\n",
       "      <td>NaN</td>\n",
       "      <td>NaN</td>\n",
       "      <td>NaN</td>\n",
       "      <td>NaN</td>\n",
       "      <td>NaN</td>\n",
       "      <td>NaN</td>\n",
       "      <td>13df535e-065c-4593-98ea-5b1e29015b7d</td>\n",
       "      <td>09614210-fce2-48bc-93e3-bc4bd441fe00</td>\n",
       "      <td>Progressive homogeneous structure</td>\n",
       "      <td>834066QFF</td>\n",
       "    </tr>\n",
       "    <tr>\n",
       "      <th>2</th>\n",
       "      <td>2</td>\n",
       "      <td>1-2022</td>\n",
       "      <td>9.0</td>\n",
       "      <td>NaN</td>\n",
       "      <td>NaN</td>\n",
       "      <td>NaN</td>\n",
       "      <td>NaN</td>\n",
       "      <td>NaN</td>\n",
       "      <td>NaN</td>\n",
       "      <td>NaN</td>\n",
       "      <td>...</td>\n",
       "      <td>NaN</td>\n",
       "      <td>NaN</td>\n",
       "      <td>NaN</td>\n",
       "      <td>NaN</td>\n",
       "      <td>NaN</td>\n",
       "      <td>NaN</td>\n",
       "      <td>13df535e-065c-4593-98ea-5b1e29015b7d</td>\n",
       "      <td>09614210-fce2-48bc-93e3-bc4bd441fe00</td>\n",
       "      <td>Progressive homogeneous structure</td>\n",
       "      <td>834066QFF</td>\n",
       "    </tr>\n",
       "    <tr>\n",
       "      <th>3</th>\n",
       "      <td>3</td>\n",
       "      <td>1-2022</td>\n",
       "      <td>9.0</td>\n",
       "      <td>NaN</td>\n",
       "      <td>NaN</td>\n",
       "      <td>NaN</td>\n",
       "      <td>NaN</td>\n",
       "      <td>NaN</td>\n",
       "      <td>NaN</td>\n",
       "      <td>NaN</td>\n",
       "      <td>...</td>\n",
       "      <td>NaN</td>\n",
       "      <td>NaN</td>\n",
       "      <td>NaN</td>\n",
       "      <td>NaN</td>\n",
       "      <td>NaN</td>\n",
       "      <td>NaN</td>\n",
       "      <td>13df535e-065c-4593-98ea-5b1e29015b7d</td>\n",
       "      <td>09614210-fce2-48bc-93e3-bc4bd441fe00</td>\n",
       "      <td>Progressive homogeneous structure</td>\n",
       "      <td>834066QFF</td>\n",
       "    </tr>\n",
       "    <tr>\n",
       "      <th>4</th>\n",
       "      <td>4</td>\n",
       "      <td>1-2022</td>\n",
       "      <td>9.0</td>\n",
       "      <td>NaN</td>\n",
       "      <td>NaN</td>\n",
       "      <td>NaN</td>\n",
       "      <td>NaN</td>\n",
       "      <td>NaN</td>\n",
       "      <td>NaN</td>\n",
       "      <td>NaN</td>\n",
       "      <td>...</td>\n",
       "      <td>NaN</td>\n",
       "      <td>NaN</td>\n",
       "      <td>NaN</td>\n",
       "      <td>NaN</td>\n",
       "      <td>NaN</td>\n",
       "      <td>NaN</td>\n",
       "      <td>13df535e-065c-4593-98ea-5b1e29015b7d</td>\n",
       "      <td>09614210-fce2-48bc-93e3-bc4bd441fe00</td>\n",
       "      <td>Progressive homogeneous structure</td>\n",
       "      <td>834066QFF</td>\n",
       "    </tr>\n",
       "  </tbody>\n",
       "</table>\n",
       "<p>5 rows × 24 columns</p>\n",
       "</div>"
      ],
      "text/plain": [
       "   particion periodo  nota_final_materia  fecha_mesa_epoch nombre_examen  \\\n",
       "0          0  1-2022                 9.0               NaN           NaN   \n",
       "1          1  1-2022                 9.0               NaN           NaN   \n",
       "2          2  1-2022                 9.0               NaN           NaN   \n",
       "3          3  1-2022                 9.0               NaN           NaN   \n",
       "4          4  1-2022                 9.0               NaN           NaN   \n",
       "\n",
       "   nota_parcial  assignment_id ass_name  ass_created_at  ass_due_at  ...  \\\n",
       "0           NaN            NaN      NaN             NaN         NaN  ...   \n",
       "1           NaN            NaN      NaN             NaN         NaN  ...   \n",
       "2           NaN            NaN      NaN             NaN         NaN  ...   \n",
       "3           NaN            NaN      NaN             NaN         NaN  ...   \n",
       "4           NaN            NaN      NaN             NaN         NaN  ...   \n",
       "\n",
       "   sub_uuid  score  submission_type s_submitted_at s_graded_at  s_created_at  \\\n",
       "0       NaN    NaN              NaN            NaN         NaN           NaN   \n",
       "1       NaN    NaN              NaN            NaN         NaN           NaN   \n",
       "2       NaN    NaN              NaN            NaN         NaN           NaN   \n",
       "3       NaN    NaN              NaN            NaN         NaN           NaN   \n",
       "4       NaN    NaN              NaN            NaN         NaN           NaN   \n",
       "\n",
       "                              user_uuid                           course_uuid  \\\n",
       "0  13df535e-065c-4593-98ea-5b1e29015b7d  09614210-fce2-48bc-93e3-bc4bd441fe00   \n",
       "1  13df535e-065c-4593-98ea-5b1e29015b7d  09614210-fce2-48bc-93e3-bc4bd441fe00   \n",
       "2  13df535e-065c-4593-98ea-5b1e29015b7d  09614210-fce2-48bc-93e3-bc4bd441fe00   \n",
       "3  13df535e-065c-4593-98ea-5b1e29015b7d  09614210-fce2-48bc-93e3-bc4bd441fe00   \n",
       "4  13df535e-065c-4593-98ea-5b1e29015b7d  09614210-fce2-48bc-93e3-bc4bd441fe00   \n",
       "\n",
       "                         course_name     legajo  \n",
       "0  Progressive homogeneous structure  834066QFF  \n",
       "1  Progressive homogeneous structure  834066QFF  \n",
       "2  Progressive homogeneous structure  834066QFF  \n",
       "3  Progressive homogeneous structure  834066QFF  \n",
       "4  Progressive homogeneous structure  834066QFF  \n",
       "\n",
       "[5 rows x 24 columns]"
      ]
     },
     "execution_count": 4,
     "metadata": {},
     "output_type": "execute_result"
    }
   ],
   "source": [
    "df = pd.read_csv('challenge_edMachina.csv', sep=';') \n",
    "df.head(5)"
   ]
  },
  {
   "cell_type": "code",
   "execution_count": 5,
   "metadata": {},
   "outputs": [
    {
     "name": "stdout",
     "output_type": "stream",
     "text": [
      "<class 'pandas.core.frame.DataFrame'>\n",
      "RangeIndex: 196124 entries, 0 to 196123\n",
      "Data columns (total 24 columns):\n",
      " #   Column              Non-Null Count   Dtype  \n",
      "---  ------              --------------   -----  \n",
      " 0   particion           196124 non-null  int64  \n",
      " 1   periodo             196124 non-null  object \n",
      " 2   nota_final_materia  196124 non-null  float64\n",
      " 3   fecha_mesa_epoch    7010 non-null    float64\n",
      " 4   nombre_examen       7010 non-null    object \n",
      " 5   nota_parcial        7010 non-null    float64\n",
      " 6   assignment_id       26061 non-null   float64\n",
      " 7   ass_name            26061 non-null   object \n",
      " 8   ass_created_at      26061 non-null   float64\n",
      " 9   ass_due_at          26061 non-null   float64\n",
      " 10  ass_unlock_at       24760 non-null   float64\n",
      " 11  ass_lock_at         25979 non-null   float64\n",
      " 12  points_possible     26061 non-null   float64\n",
      " 13  ass_name_sub        24206 non-null   object \n",
      " 14  sub_uuid            24206 non-null   object \n",
      " 15  score               23876 non-null   float64\n",
      " 16  submission_type     24206 non-null   object \n",
      " 17  s_submitted_at      24206 non-null   float64\n",
      " 18  s_graded_at         23877 non-null   float64\n",
      " 19  s_created_at        24206 non-null   float64\n",
      " 20  user_uuid           196124 non-null  object \n",
      " 21  course_uuid         196124 non-null  object \n",
      " 22  course_name         196124 non-null  object \n",
      " 23  legajo              196124 non-null  object \n",
      "dtypes: float64(13), int64(1), object(10)\n",
      "memory usage: 35.9+ MB\n"
     ]
    }
   ],
   "source": [
    "df.info()"
   ]
  },
  {
   "cell_type": "code",
   "execution_count": 7,
   "metadata": {},
   "outputs": [
    {
     "data": {
      "text/html": [
       "<div>\n",
       "<style scoped>\n",
       "    .dataframe tbody tr th:only-of-type {\n",
       "        vertical-align: middle;\n",
       "    }\n",
       "\n",
       "    .dataframe tbody tr th {\n",
       "        vertical-align: top;\n",
       "    }\n",
       "\n",
       "    .dataframe thead th {\n",
       "        text-align: right;\n",
       "    }\n",
       "</style>\n",
       "<table border=\"1\" class=\"dataframe\">\n",
       "  <thead>\n",
       "    <tr style=\"text-align: right;\">\n",
       "      <th></th>\n",
       "      <th>particion</th>\n",
       "      <th>nota_final_materia</th>\n",
       "      <th>fecha_mesa_epoch</th>\n",
       "      <th>nota_parcial</th>\n",
       "      <th>assignment_id</th>\n",
       "      <th>ass_created_at</th>\n",
       "      <th>ass_due_at</th>\n",
       "      <th>ass_unlock_at</th>\n",
       "      <th>ass_lock_at</th>\n",
       "      <th>points_possible</th>\n",
       "      <th>score</th>\n",
       "      <th>s_submitted_at</th>\n",
       "      <th>s_graded_at</th>\n",
       "      <th>s_created_at</th>\n",
       "    </tr>\n",
       "  </thead>\n",
       "  <tbody>\n",
       "    <tr>\n",
       "      <th>count</th>\n",
       "      <td>196124.000000</td>\n",
       "      <td>196124.000000</td>\n",
       "      <td>7.010000e+03</td>\n",
       "      <td>7010.000000</td>\n",
       "      <td>26061.000000</td>\n",
       "      <td>2.606100e+04</td>\n",
       "      <td>2.606100e+04</td>\n",
       "      <td>2.476000e+04</td>\n",
       "      <td>2.597900e+04</td>\n",
       "      <td>26061.000000</td>\n",
       "      <td>23876.000000</td>\n",
       "      <td>2.420600e+04</td>\n",
       "      <td>2.387700e+04</td>\n",
       "      <td>2.420600e+04</td>\n",
       "    </tr>\n",
       "    <tr>\n",
       "      <th>mean</th>\n",
       "      <td>30.663891</td>\n",
       "      <td>7.546700</td>\n",
       "      <td>1.653584e+09</td>\n",
       "      <td>7.171469</td>\n",
       "      <td>204405.744983</td>\n",
       "      <td>1.648083e+09</td>\n",
       "      <td>1.654467e+09</td>\n",
       "      <td>1.650104e+09</td>\n",
       "      <td>1.654456e+09</td>\n",
       "      <td>99.593262</td>\n",
       "      <td>84.159968</td>\n",
       "      <td>1.653061e+09</td>\n",
       "      <td>1.653225e+09</td>\n",
       "      <td>1.659396e+09</td>\n",
       "    </tr>\n",
       "    <tr>\n",
       "      <th>std</th>\n",
       "      <td>17.625074</td>\n",
       "      <td>1.732275</td>\n",
       "      <td>3.308269e+06</td>\n",
       "      <td>1.823261</td>\n",
       "      <td>6486.514305</td>\n",
       "      <td>2.479788e+06</td>\n",
       "      <td>3.330116e+06</td>\n",
       "      <td>2.955982e+06</td>\n",
       "      <td>3.329339e+06</td>\n",
       "      <td>6.337552</td>\n",
       "      <td>18.254782</td>\n",
       "      <td>3.633599e+06</td>\n",
       "      <td>3.614172e+06</td>\n",
       "      <td>1.141774e+05</td>\n",
       "    </tr>\n",
       "    <tr>\n",
       "      <th>min</th>\n",
       "      <td>0.000000</td>\n",
       "      <td>0.000000</td>\n",
       "      <td>1.643587e+09</td>\n",
       "      <td>0.000000</td>\n",
       "      <td>191573.000000</td>\n",
       "      <td>1.643061e+09</td>\n",
       "      <td>1.644462e+09</td>\n",
       "      <td>1.643598e+09</td>\n",
       "      <td>1.644462e+09</td>\n",
       "      <td>0.000000</td>\n",
       "      <td>0.000000</td>\n",
       "      <td>1.643389e+09</td>\n",
       "      <td>1.643389e+09</td>\n",
       "      <td>1.659393e+09</td>\n",
       "    </tr>\n",
       "    <tr>\n",
       "      <th>25%</th>\n",
       "      <td>15.000000</td>\n",
       "      <td>7.000000</td>\n",
       "      <td>1.651190e+09</td>\n",
       "      <td>6.000000</td>\n",
       "      <td>197229.000000</td>\n",
       "      <td>1.645736e+09</td>\n",
       "      <td>1.652670e+09</td>\n",
       "      <td>1.647832e+09</td>\n",
       "      <td>1.652670e+09</td>\n",
       "      <td>100.000000</td>\n",
       "      <td>75.000000</td>\n",
       "      <td>1.650064e+09</td>\n",
       "      <td>1.650249e+09</td>\n",
       "      <td>1.659393e+09</td>\n",
       "    </tr>\n",
       "    <tr>\n",
       "      <th>50%</th>\n",
       "      <td>31.000000</td>\n",
       "      <td>8.000000</td>\n",
       "      <td>1.654214e+09</td>\n",
       "      <td>7.000000</td>\n",
       "      <td>206604.000000</td>\n",
       "      <td>1.647791e+09</td>\n",
       "      <td>1.654484e+09</td>\n",
       "      <td>1.647832e+09</td>\n",
       "      <td>1.654484e+09</td>\n",
       "      <td>100.000000</td>\n",
       "      <td>88.333333</td>\n",
       "      <td>1.653344e+09</td>\n",
       "      <td>1.653424e+09</td>\n",
       "      <td>1.659393e+09</td>\n",
       "    </tr>\n",
       "    <tr>\n",
       "      <th>75%</th>\n",
       "      <td>46.000000</td>\n",
       "      <td>9.000000</td>\n",
       "      <td>1.656547e+09</td>\n",
       "      <td>9.000000</td>\n",
       "      <td>209619.000000</td>\n",
       "      <td>1.650459e+09</td>\n",
       "      <td>1.658113e+09</td>\n",
       "      <td>1.653275e+09</td>\n",
       "      <td>1.658113e+09</td>\n",
       "      <td>100.000000</td>\n",
       "      <td>100.000000</td>\n",
       "      <td>1.656370e+09</td>\n",
       "      <td>1.656588e+09</td>\n",
       "      <td>1.659393e+09</td>\n",
       "    </tr>\n",
       "    <tr>\n",
       "      <th>max</th>\n",
       "      <td>59.000000</td>\n",
       "      <td>10.000000</td>\n",
       "      <td>1.658534e+09</td>\n",
       "      <td>10.000000</td>\n",
       "      <td>228404.000000</td>\n",
       "      <td>1.658513e+09</td>\n",
       "      <td>1.668395e+09</td>\n",
       "      <td>1.659928e+09</td>\n",
       "      <td>1.668395e+09</td>\n",
       "      <td>100.000000</td>\n",
       "      <td>100.000000</td>\n",
       "      <td>1.664766e+09</td>\n",
       "      <td>1.666148e+09</td>\n",
       "      <td>1.666020e+09</td>\n",
       "    </tr>\n",
       "  </tbody>\n",
       "</table>\n",
       "</div>"
      ],
      "text/plain": [
       "           particion  nota_final_materia  fecha_mesa_epoch  nota_parcial  \\\n",
       "count  196124.000000       196124.000000      7.010000e+03   7010.000000   \n",
       "mean       30.663891            7.546700      1.653584e+09      7.171469   \n",
       "std        17.625074            1.732275      3.308269e+06      1.823261   \n",
       "min         0.000000            0.000000      1.643587e+09      0.000000   \n",
       "25%        15.000000            7.000000      1.651190e+09      6.000000   \n",
       "50%        31.000000            8.000000      1.654214e+09      7.000000   \n",
       "75%        46.000000            9.000000      1.656547e+09      9.000000   \n",
       "max        59.000000           10.000000      1.658534e+09     10.000000   \n",
       "\n",
       "       assignment_id  ass_created_at    ass_due_at  ass_unlock_at  \\\n",
       "count   26061.000000    2.606100e+04  2.606100e+04   2.476000e+04   \n",
       "mean   204405.744983    1.648083e+09  1.654467e+09   1.650104e+09   \n",
       "std      6486.514305    2.479788e+06  3.330116e+06   2.955982e+06   \n",
       "min    191573.000000    1.643061e+09  1.644462e+09   1.643598e+09   \n",
       "25%    197229.000000    1.645736e+09  1.652670e+09   1.647832e+09   \n",
       "50%    206604.000000    1.647791e+09  1.654484e+09   1.647832e+09   \n",
       "75%    209619.000000    1.650459e+09  1.658113e+09   1.653275e+09   \n",
       "max    228404.000000    1.658513e+09  1.668395e+09   1.659928e+09   \n",
       "\n",
       "        ass_lock_at  points_possible         score  s_submitted_at  \\\n",
       "count  2.597900e+04     26061.000000  23876.000000    2.420600e+04   \n",
       "mean   1.654456e+09        99.593262     84.159968    1.653061e+09   \n",
       "std    3.329339e+06         6.337552     18.254782    3.633599e+06   \n",
       "min    1.644462e+09         0.000000      0.000000    1.643389e+09   \n",
       "25%    1.652670e+09       100.000000     75.000000    1.650064e+09   \n",
       "50%    1.654484e+09       100.000000     88.333333    1.653344e+09   \n",
       "75%    1.658113e+09       100.000000    100.000000    1.656370e+09   \n",
       "max    1.668395e+09       100.000000    100.000000    1.664766e+09   \n",
       "\n",
       "        s_graded_at  s_created_at  \n",
       "count  2.387700e+04  2.420600e+04  \n",
       "mean   1.653225e+09  1.659396e+09  \n",
       "std    3.614172e+06  1.141774e+05  \n",
       "min    1.643389e+09  1.659393e+09  \n",
       "25%    1.650249e+09  1.659393e+09  \n",
       "50%    1.653424e+09  1.659393e+09  \n",
       "75%    1.656588e+09  1.659393e+09  \n",
       "max    1.666148e+09  1.666020e+09  "
      ]
     },
     "execution_count": 7,
     "metadata": {},
     "output_type": "execute_result"
    }
   ],
   "source": [
    "df.describe()"
   ]
  },
  {
   "cell_type": "code",
   "execution_count": 8,
   "metadata": {},
   "outputs": [
    {
     "data": {
      "text/plain": [
       "particion                  0\n",
       "periodo                    0\n",
       "nota_final_materia         0\n",
       "fecha_mesa_epoch      189114\n",
       "nombre_examen         189114\n",
       "nota_parcial          189114\n",
       "assignment_id         170063\n",
       "ass_name              170063\n",
       "ass_created_at        170063\n",
       "ass_due_at            170063\n",
       "ass_unlock_at         171364\n",
       "ass_lock_at           170145\n",
       "points_possible       170063\n",
       "ass_name_sub          171918\n",
       "sub_uuid              171918\n",
       "score                 172248\n",
       "submission_type       171918\n",
       "s_submitted_at        171918\n",
       "s_graded_at           172247\n",
       "s_created_at          171918\n",
       "user_uuid                  0\n",
       "course_uuid                0\n",
       "course_name                0\n",
       "legajo                     0\n",
       "dtype: int64"
      ]
     },
     "execution_count": 8,
     "metadata": {},
     "output_type": "execute_result"
    }
   ],
   "source": [
    "df.isnull().sum()"
   ]
  },
  {
   "cell_type": "code",
   "execution_count": 15,
   "metadata": {},
   "outputs": [
    {
     "data": {
      "text/html": [
       "<div>\n",
       "<style scoped>\n",
       "    .dataframe tbody tr th:only-of-type {\n",
       "        vertical-align: middle;\n",
       "    }\n",
       "\n",
       "    .dataframe tbody tr th {\n",
       "        vertical-align: top;\n",
       "    }\n",
       "\n",
       "    .dataframe thead th {\n",
       "        text-align: right;\n",
       "    }\n",
       "</style>\n",
       "<table border=\"1\" class=\"dataframe\">\n",
       "  <thead>\n",
       "    <tr style=\"text-align: right;\">\n",
       "      <th></th>\n",
       "      <th>score</th>\n",
       "      <th>nota_parcial</th>\n",
       "      <th>nota_final_materia</th>\n",
       "    </tr>\n",
       "  </thead>\n",
       "  <tbody>\n",
       "    <tr>\n",
       "      <th>score</th>\n",
       "      <td>1.000000</td>\n",
       "      <td>0.175739</td>\n",
       "      <td>0.220939</td>\n",
       "    </tr>\n",
       "    <tr>\n",
       "      <th>nota_parcial</th>\n",
       "      <td>0.175739</td>\n",
       "      <td>1.000000</td>\n",
       "      <td>0.726208</td>\n",
       "    </tr>\n",
       "    <tr>\n",
       "      <th>nota_final_materia</th>\n",
       "      <td>0.220939</td>\n",
       "      <td>0.726208</td>\n",
       "      <td>1.000000</td>\n",
       "    </tr>\n",
       "  </tbody>\n",
       "</table>\n",
       "</div>"
      ],
      "text/plain": [
       "                       score  nota_parcial  nota_final_materia\n",
       "score               1.000000      0.175739            0.220939\n",
       "nota_parcial        0.175739      1.000000            0.726208\n",
       "nota_final_materia  0.220939      0.726208            1.000000"
      ]
     },
     "execution_count": 15,
     "metadata": {},
     "output_type": "execute_result"
    }
   ],
   "source": [
    "# Seleccionar solo las columnas de interés\n",
    "df_subset = df[['score', 'nota_parcial', 'nota_final_materia']]\n",
    "df_subset = df_subset.dropna()\n",
    "\n",
    "# Calcular la matriz de correlación para las columnas seleccionadas\n",
    "df_subset.corr()"
   ]
  },
  {
   "cell_type": "markdown",
   "metadata": {},
   "source": [
    "El score no parece estar relacionado de manera significativa con las otras dos variables.\n",
    "\n",
    "La nota_parcial y la nota_final_materia están moderadamente relacionadas, lo que indica que un buen desempeño en los parciales suele asociarse con una mejor nota final."
   ]
  },
  {
   "cell_type": "code",
   "execution_count": 16,
   "metadata": {},
   "outputs": [
    {
     "data": {
      "text/html": [
       "<div>\n",
       "<style scoped>\n",
       "    .dataframe tbody tr th:only-of-type {\n",
       "        vertical-align: middle;\n",
       "    }\n",
       "\n",
       "    .dataframe tbody tr th {\n",
       "        vertical-align: top;\n",
       "    }\n",
       "\n",
       "    .dataframe thead th {\n",
       "        text-align: right;\n",
       "    }\n",
       "</style>\n",
       "<table border=\"1\" class=\"dataframe\">\n",
       "  <thead>\n",
       "    <tr style=\"text-align: right;\">\n",
       "      <th></th>\n",
       "      <th>score</th>\n",
       "      <th>nota_parcial</th>\n",
       "      <th>nota_final_materia</th>\n",
       "    </tr>\n",
       "  </thead>\n",
       "  <tbody>\n",
       "    <tr>\n",
       "      <th>108</th>\n",
       "      <td>75.00</td>\n",
       "      <td>5.0</td>\n",
       "      <td>5.0</td>\n",
       "    </tr>\n",
       "    <tr>\n",
       "      <th>109</th>\n",
       "      <td>60.00</td>\n",
       "      <td>5.0</td>\n",
       "      <td>5.0</td>\n",
       "    </tr>\n",
       "    <tr>\n",
       "      <th>801</th>\n",
       "      <td>75.00</td>\n",
       "      <td>8.0</td>\n",
       "      <td>8.0</td>\n",
       "    </tr>\n",
       "    <tr>\n",
       "      <th>802</th>\n",
       "      <td>61.25</td>\n",
       "      <td>8.0</td>\n",
       "      <td>8.0</td>\n",
       "    </tr>\n",
       "    <tr>\n",
       "      <th>1061</th>\n",
       "      <td>85.00</td>\n",
       "      <td>6.0</td>\n",
       "      <td>7.0</td>\n",
       "    </tr>\n",
       "  </tbody>\n",
       "</table>\n",
       "</div>"
      ],
      "text/plain": [
       "      score  nota_parcial  nota_final_materia\n",
       "108   75.00           5.0                 5.0\n",
       "109   60.00           5.0                 5.0\n",
       "801   75.00           8.0                 8.0\n",
       "802   61.25           8.0                 8.0\n",
       "1061  85.00           6.0                 7.0"
      ]
     },
     "execution_count": 16,
     "metadata": {},
     "output_type": "execute_result"
    }
   ],
   "source": [
    "df_subset.head(5)"
   ]
  },
  {
   "cell_type": "code",
   "execution_count": 17,
   "metadata": {},
   "outputs": [
    {
     "data": {
      "text/html": [
       "<div>\n",
       "<style scoped>\n",
       "    .dataframe tbody tr th:only-of-type {\n",
       "        vertical-align: middle;\n",
       "    }\n",
       "\n",
       "    .dataframe tbody tr th {\n",
       "        vertical-align: top;\n",
       "    }\n",
       "\n",
       "    .dataframe thead th {\n",
       "        text-align: right;\n",
       "    }\n",
       "</style>\n",
       "<table border=\"1\" class=\"dataframe\">\n",
       "  <thead>\n",
       "    <tr style=\"text-align: right;\">\n",
       "      <th></th>\n",
       "      <th>score</th>\n",
       "      <th>nota_parcial</th>\n",
       "      <th>nota_final_materia</th>\n",
       "    </tr>\n",
       "  </thead>\n",
       "  <tbody>\n",
       "    <tr>\n",
       "      <th>108</th>\n",
       "      <td>7.5</td>\n",
       "      <td>5.0</td>\n",
       "      <td>5.0</td>\n",
       "    </tr>\n",
       "    <tr>\n",
       "      <th>109</th>\n",
       "      <td>6.0</td>\n",
       "      <td>5.0</td>\n",
       "      <td>5.0</td>\n",
       "    </tr>\n",
       "    <tr>\n",
       "      <th>801</th>\n",
       "      <td>7.5</td>\n",
       "      <td>8.0</td>\n",
       "      <td>8.0</td>\n",
       "    </tr>\n",
       "    <tr>\n",
       "      <th>802</th>\n",
       "      <td>6.1</td>\n",
       "      <td>8.0</td>\n",
       "      <td>8.0</td>\n",
       "    </tr>\n",
       "    <tr>\n",
       "      <th>1061</th>\n",
       "      <td>8.5</td>\n",
       "      <td>6.0</td>\n",
       "      <td>7.0</td>\n",
       "    </tr>\n",
       "  </tbody>\n",
       "</table>\n",
       "</div>"
      ],
      "text/plain": [
       "      score  nota_parcial  nota_final_materia\n",
       "108     7.5           5.0                 5.0\n",
       "109     6.0           5.0                 5.0\n",
       "801     7.5           8.0                 8.0\n",
       "802     6.1           8.0                 8.0\n",
       "1061    8.5           6.0                 7.0"
      ]
     },
     "execution_count": 17,
     "metadata": {},
     "output_type": "execute_result"
    }
   ],
   "source": [
    "# Convertir 'score' a una escala de 0 a 10\n",
    "df_subset['score'] = (df_subset['score'] / 100 * 10).round(1)\n",
    "df_subset.head(5)"
   ]
  },
  {
   "cell_type": "code",
   "execution_count": 18,
   "metadata": {},
   "outputs": [
    {
     "data": {
      "text/html": [
       "<div>\n",
       "<style scoped>\n",
       "    .dataframe tbody tr th:only-of-type {\n",
       "        vertical-align: middle;\n",
       "    }\n",
       "\n",
       "    .dataframe tbody tr th {\n",
       "        vertical-align: top;\n",
       "    }\n",
       "\n",
       "    .dataframe thead th {\n",
       "        text-align: right;\n",
       "    }\n",
       "</style>\n",
       "<table border=\"1\" class=\"dataframe\">\n",
       "  <thead>\n",
       "    <tr style=\"text-align: right;\">\n",
       "      <th></th>\n",
       "      <th>score</th>\n",
       "      <th>nota_parcial</th>\n",
       "      <th>nota_final_materia</th>\n",
       "    </tr>\n",
       "  </thead>\n",
       "  <tbody>\n",
       "    <tr>\n",
       "      <th>score</th>\n",
       "      <td>1.000000</td>\n",
       "      <td>0.175380</td>\n",
       "      <td>0.220742</td>\n",
       "    </tr>\n",
       "    <tr>\n",
       "      <th>nota_parcial</th>\n",
       "      <td>0.175380</td>\n",
       "      <td>1.000000</td>\n",
       "      <td>0.726208</td>\n",
       "    </tr>\n",
       "    <tr>\n",
       "      <th>nota_final_materia</th>\n",
       "      <td>0.220742</td>\n",
       "      <td>0.726208</td>\n",
       "      <td>1.000000</td>\n",
       "    </tr>\n",
       "  </tbody>\n",
       "</table>\n",
       "</div>"
      ],
      "text/plain": [
       "                       score  nota_parcial  nota_final_materia\n",
       "score               1.000000      0.175380            0.220742\n",
       "nota_parcial        0.175380      1.000000            0.726208\n",
       "nota_final_materia  0.220742      0.726208            1.000000"
      ]
     },
     "execution_count": 18,
     "metadata": {},
     "output_type": "execute_result"
    }
   ],
   "source": [
    "# Calcular la matriz de correlación para las columnas seleccionadas\n",
    "df_subset.corr()"
   ]
  },
  {
   "cell_type": "code",
   "execution_count": 20,
   "metadata": {},
   "outputs": [
    {
     "name": "stdout",
     "output_type": "stream",
     "text": [
      "Correlación entre promedio y nota final: 0.6208599568085805\n"
     ]
    },
    {
     "data": {
      "image/png": "[encoded data removed]",
      "text/plain": [
       "<Figure size 640x480 with 1 Axes>"
      ]
     },
     "metadata": {},
     "output_type": "display_data"
    }
   ],
   "source": [
    "# Calcular el promedio\n",
    "df_subset['promedio'] = (df_subset['score'] + df_subset['nota_parcial']) / 2\n",
    "\n",
    "# Calcular la correlación entre promedio y nota final\n",
    "correlation = df_subset['promedio'].corr(df_subset['nota_final_materia'])\n",
    "print(\"Correlación entre promedio y nota final:\", correlation)\n",
    "\n",
    "# Visualizar la relación\n",
    "plt.scatter(df_subset['promedio'], df_subset['nota_final_materia'])\n",
    "plt.xlabel('Promedio')\n",
    "plt.ylabel('Nota final')\n",
    "plt.title('Relación entre promedio y nota final')\n",
    "plt.show()"
   ]
  },
  {
   "cell_type": "markdown",
   "metadata": {},
   "source": [
    "Una correlación de 0.62 te proporciona una base sólida para utilizar el promedio como predictor de la nota final.\n",
    "\n",
    "Sin embargo, es fundamental utilizar esta información con cautela y considerar las limitaciones de este enfoque."
   ]
  },
  {
   "cell_type": "code",
   "execution_count": 22,
   "metadata": {},
   "outputs": [],
   "source": [
    "'''# Función para reemplazar outliers por la mediana\n",
    "def replace_outliers(df, column, lower_bound=0, upper_bound=10):\n",
    "  q1 = df[column].quantile(0.25)\n",
    "  q3 = df[column].quantile(0.75)\n",
    "  iqr = q3 - q1\n",
    "  \n",
    "  # Calcula los límites para identificar outliers\n",
    "  lower_limit = q1 - 1.5 * iqr\n",
    "  upper_limit = q3 + 1.5 * iqr\n",
    "  \n",
    "  # Reemplaza los outliers por la mediana\n",
    "  df_subset.loc[(df_subset[column] < lower_bound) | (df_subset[column] > upper_bound), column] = df_subset[column].median()\n",
    "\n",
    "# Aplicando la función a todas las columnas numéricas\n",
    "for col in df_subset.select_dtypes(include=np.number).columns:\n",
    "  replace_outliers(df_subset, col, 0, 10)'''\n"
   ]
  },
  {
   "cell_type": "code",
   "execution_count": 28,
   "metadata": {},
   "outputs": [
    {
     "data": {
      "text/html": [
       "<div>\n",
       "<style scoped>\n",
       "    .dataframe tbody tr th:only-of-type {\n",
       "        vertical-align: middle;\n",
       "    }\n",
       "\n",
       "    .dataframe tbody tr th {\n",
       "        vertical-align: top;\n",
       "    }\n",
       "\n",
       "    .dataframe thead th {\n",
       "        text-align: right;\n",
       "    }\n",
       "</style>\n",
       "<table border=\"1\" class=\"dataframe\">\n",
       "  <thead>\n",
       "    <tr style=\"text-align: right;\">\n",
       "      <th></th>\n",
       "      <th>score</th>\n",
       "      <th>nota_parcial</th>\n",
       "    </tr>\n",
       "  </thead>\n",
       "  <tbody>\n",
       "    <tr>\n",
       "      <th>score</th>\n",
       "      <td>1.000000</td>\n",
       "      <td>0.175739</td>\n",
       "    </tr>\n",
       "    <tr>\n",
       "      <th>nota_parcial</th>\n",
       "      <td>0.175739</td>\n",
       "      <td>1.000000</td>\n",
       "    </tr>\n",
       "  </tbody>\n",
       "</table>\n",
       "</div>"
      ],
      "text/plain": [
       "                 score  nota_parcial\n",
       "score         1.000000      0.175739\n",
       "nota_parcial  0.175739      1.000000"
      ]
     },
     "execution_count": 28,
     "metadata": {},
     "output_type": "execute_result"
    }
   ],
   "source": [
    "\n",
    "df_subset2 = df[['score', 'nota_parcial']]\n",
    "df_subset2 = df_subset2.dropna()\n",
    "\n",
    "# Calcular la matriz de correlación para las columnas seleccionadas\n",
    "df_subset2.corr()"
   ]
  },
  {
   "cell_type": "code",
   "execution_count": 39,
   "metadata": {},
   "outputs": [],
   "source": [
    "# Crear un nuevo DataFrame sin los valores nulos de las columnas socre y nota parcial\n",
    "df_sin_nulos = df.dropna(subset=['score'])"
   ]
  },
  {
   "cell_type": "code",
   "execution_count": 40,
   "metadata": {},
   "outputs": [
    {
     "data": {
      "text/plain": [
       "particion                 0\n",
       "periodo                   0\n",
       "nota_final_materia        0\n",
       "fecha_mesa_epoch      21592\n",
       "nombre_examen         21592\n",
       "nota_parcial          21592\n",
       "assignment_id         16777\n",
       "ass_name              16777\n",
       "ass_created_at        16777\n",
       "ass_due_at            16777\n",
       "ass_unlock_at         17328\n",
       "ass_lock_at           16809\n",
       "points_possible       16777\n",
       "ass_name_sub              0\n",
       "sub_uuid                  0\n",
       "score                     0\n",
       "submission_type           0\n",
       "s_submitted_at            0\n",
       "s_graded_at               0\n",
       "s_created_at              0\n",
       "user_uuid                 0\n",
       "course_uuid               0\n",
       "course_name               0\n",
       "legajo                    0\n",
       "dtype: int64"
      ]
     },
     "execution_count": 40,
     "metadata": {},
     "output_type": "execute_result"
    }
   ],
   "source": [
    "df_sin_nulos.isnull().sum()"
   ]
  },
  {
   "cell_type": "code",
   "execution_count": 41,
   "metadata": {},
   "outputs": [
    {
     "name": "stderr",
     "output_type": "stream",
     "text": [
      "C:\\Users\\pakin\\AppData\\Local\\Temp\\ipykernel_3916\\3081907104.py:2: SettingWithCopyWarning: \n",
      "A value is trying to be set on a copy of a slice from a DataFrame.\n",
      "Try using .loc[row_indexer,col_indexer] = value instead\n",
      "\n",
      "See the caveats in the documentation: https://pandas.pydata.org/pandas-docs/stable/user_guide/indexing.html#returning-a-view-versus-a-copy\n",
      "  df_sin_nulos['nota_parcial_estimada'] = (df_sin_nulos['nota_final_materia'] * 2 - df_sin_nulos['score']) / 2\n"
     ]
    }
   ],
   "source": [
    "# Calculando la nota parcial estimada\n",
    "df_sin_nulos['nota_parcial_estimada'] = (df_sin_nulos['nota_final_materia'] * 2 - df_sin_nulos['score']) / 2\n",
    "\n",
    "# Rellenar los valores nulos de 'nota_parcial' con los estimados\n",
    "df_sin_nulos.loc[df_sin_nulos['nota_parcial'].isna(), 'nota_parcial'] = df_sin_nulos['nota_parcial_estimada']"
   ]
  },
  {
   "cell_type": "code",
   "execution_count": 42,
   "metadata": {},
   "outputs": [
    {
     "data": {
      "text/plain": [
       "particion                    0\n",
       "periodo                      0\n",
       "nota_final_materia           0\n",
       "fecha_mesa_epoch         21592\n",
       "nombre_examen            21592\n",
       "nota_parcial                 0\n",
       "assignment_id            16777\n",
       "ass_name                 16777\n",
       "ass_created_at           16777\n",
       "ass_due_at               16777\n",
       "ass_unlock_at            17328\n",
       "ass_lock_at              16809\n",
       "points_possible          16777\n",
       "ass_name_sub                 0\n",
       "sub_uuid                     0\n",
       "score                        0\n",
       "submission_type              0\n",
       "s_submitted_at               0\n",
       "s_graded_at                  0\n",
       "s_created_at                 0\n",
       "user_uuid                    0\n",
       "course_uuid                  0\n",
       "course_name                  0\n",
       "legajo                       0\n",
       "nota_parcial_estimada        0\n",
       "dtype: int64"
      ]
     },
     "execution_count": 42,
     "metadata": {},
     "output_type": "execute_result"
    }
   ],
   "source": [
    "df_sin_nulos.isnull().sum()"
   ]
  },
  {
   "cell_type": "markdown",
   "metadata": {},
   "source": [
    "EDA "
   ]
  },
  {
   "cell_type": "code",
   "execution_count": 44,
   "metadata": {},
   "outputs": [
    {
     "name": "stderr",
     "output_type": "stream",
     "text": [
      "C:\\Users\\pakin\\AppData\\Local\\Temp\\ipykernel_3916\\266260267.py:7: SettingWithCopyWarning: \n",
      "A value is trying to be set on a copy of a slice from a DataFrame.\n",
      "Try using .loc[row_indexer,col_indexer] = value instead\n",
      "\n",
      "See the caveats in the documentation: https://pandas.pydata.org/pandas-docs/stable/user_guide/indexing.html#returning-a-view-versus-a-copy\n",
      "  df_sin_nulos['nota_parcial_estimada'] = (df_sin_nulos['nota_final_materia'] * 2 - df_sin_nulos['score']) / 2\n"
     ]
    }
   ],
   "source": [
    "df = pd.read_csv('challenge_edMachina.csv', sep=';') \n",
    "# Convertir 'score' a una escala de 0 a 10\n",
    "df['score'] = (df['score'] / 100 * 10).round(1)\n",
    "# Crear un nuevo DataFrame sin los valores nulos de las columnas score porque con esta columna y nota_final_materia se podria completar las nota_parcial\n",
    "df_sin_nulos = df.dropna(subset=['score'])\n",
    "# Calculando la nota parcial estimada\n",
    "df_sin_nulos['nota_parcial_estimada'] = (df_sin_nulos['nota_final_materia'] * 2 - df_sin_nulos['score']) / 2\n",
    "# Rellenar los valores nulos de 'nota_parcial' con los estimados\n",
    "df_sin_nulos.loc[df_sin_nulos['nota_parcial'].isna(), 'nota_parcial'] = df_sin_nulos['nota_parcial_estimada']"
   ]
  },
  {
   "cell_type": "code",
   "execution_count": 45,
   "metadata": {},
   "outputs": [
    {
     "data": {
      "text/plain": [
       "particion                    0\n",
       "periodo                      0\n",
       "nota_final_materia           0\n",
       "fecha_mesa_epoch         21592\n",
       "nombre_examen            21592\n",
       "nota_parcial                 0\n",
       "assignment_id            16777\n",
       "ass_name                 16777\n",
       "ass_created_at           16777\n",
       "ass_due_at               16777\n",
       "ass_unlock_at            17328\n",
       "ass_lock_at              16809\n",
       "points_possible          16777\n",
       "ass_name_sub                 0\n",
       "sub_uuid                     0\n",
       "score                        0\n",
       "submission_type              0\n",
       "s_submitted_at               0\n",
       "s_graded_at                  0\n",
       "s_created_at                 0\n",
       "user_uuid                    0\n",
       "course_uuid                  0\n",
       "course_name                  0\n",
       "legajo                       0\n",
       "nota_parcial_estimada        0\n",
       "dtype: int64"
      ]
     },
     "execution_count": 45,
     "metadata": {},
     "output_type": "execute_result"
    }
   ],
   "source": [
    "df_sin_nulos.isnull().sum()"
   ]
  },
  {
   "cell_type": "code",
   "execution_count": 46,
   "metadata": {},
   "outputs": [
    {
     "name": "stdout",
     "output_type": "stream",
     "text": [
      "<class 'pandas.core.frame.DataFrame'>\n",
      "Index: 23876 entries, 15 to 196092\n",
      "Data columns (total 25 columns):\n",
      " #   Column                 Non-Null Count  Dtype  \n",
      "---  ------                 --------------  -----  \n",
      " 0   particion              23876 non-null  int64  \n",
      " 1   periodo                23876 non-null  object \n",
      " 2   nota_final_materia     23876 non-null  float64\n",
      " 3   fecha_mesa_epoch       2284 non-null   float64\n",
      " 4   nombre_examen          2284 non-null   object \n",
      " 5   nota_parcial           23876 non-null  float64\n",
      " 6   assignment_id          7099 non-null   float64\n",
      " 7   ass_name               7099 non-null   object \n",
      " 8   ass_created_at         7099 non-null   float64\n",
      " 9   ass_due_at             7099 non-null   float64\n",
      " 10  ass_unlock_at          6548 non-null   float64\n",
      " 11  ass_lock_at            7067 non-null   float64\n",
      " 12  points_possible        7099 non-null   float64\n",
      " 13  ass_name_sub           23876 non-null  object \n",
      " 14  sub_uuid               23876 non-null  object \n",
      " 15  score                  23876 non-null  float64\n",
      " 16  submission_type        23876 non-null  object \n",
      " 17  s_submitted_at         23876 non-null  float64\n",
      " 18  s_graded_at            23876 non-null  float64\n",
      " 19  s_created_at           23876 non-null  float64\n",
      " 20  user_uuid              23876 non-null  object \n",
      " 21  course_uuid            23876 non-null  object \n",
      " 22  course_name            23876 non-null  object \n",
      " 23  legajo                 23876 non-null  object \n",
      " 24  nota_parcial_estimada  23876 non-null  float64\n",
      "dtypes: float64(14), int64(1), object(10)\n",
      "memory usage: 5.2+ MB\n"
     ]
    }
   ],
   "source": [
    "df_sin_nulos.info()"
   ]
  },
  {
   "cell_type": "code",
   "execution_count": 48,
   "metadata": {},
   "outputs": [
    {
     "data": {
      "image/png": "[encoded data removed]",
      "text/plain": [
       "<Figure size 1000x600 with 1 Axes>"
      ]
     },
     "metadata": {},
     "output_type": "display_data"
    }
   ],
   "source": [
    "plt.figure(figsize=(10, 6))\n",
    "sns.histplot(df_sin_nulos['nota_final_materia'], bins=20, kde=True)\n",
    "plt.title('Distribución de las Notas Finales')\n",
    "plt.xlabel('Nota Final Materia')\n",
    "plt.ylabel('Frecuencia')\n",
    "plt.show()"
   ]
  },
  {
   "cell_type": "code",
   "execution_count": 50,
   "metadata": {},
   "outputs": [
    {
     "data": {
      "image/png": "[encoded data removed]",
      "text/plain": [
       "<Figure size 1000x600 with 1 Axes>"
      ]
     },
     "metadata": {},
     "output_type": "display_data"
    }
   ],
   "source": [
    "plt.figure(figsize=(10, 6))\n",
    "sns.scatterplot(x='nota_parcial', y='nota_final_materia', data=df_sin_nulos)\n",
    "plt.title('Relación entre Nota Parcial y Nota Final Materia')\n",
    "plt.xlabel('Nota Parcial')\n",
    "plt.ylabel('Nota Final Materia')\n",
    "plt.show()"
   ]
  },
  {
   "cell_type": "code",
   "execution_count": 51,
   "metadata": {},
   "outputs": [
    {
     "data": {
      "image/png": "[encoded data removed]",
      "text/plain": [
       "<Figure size 1000x600 with 1 Axes>"
      ]
     },
     "metadata": {},
     "output_type": "display_data"
    }
   ],
   "source": [
    "plt.figure(figsize=(10, 6))\n",
    "sns.scatterplot(x='score', y='nota_final_materia', data=df_sin_nulos)\n",
    "plt.title('Relación entre Score y Nota Final Materia')\n",
    "plt.xlabel('Score')\n",
    "plt.ylabel('Nota Final Materia')\n",
    "plt.show()"
   ]
  },
  {
   "cell_type": "code",
   "execution_count": 52,
   "metadata": {},
   "outputs": [
    {
     "data": {
      "image/png": "[encoded data removed]",
      "text/plain": [
       "<Figure size 1200x1000 with 2 Axes>"
      ]
     },
     "metadata": {},
     "output_type": "display_data"
    }
   ],
   "source": [
    "plt.figure(figsize=(12, 10))\n",
    "correlation_matrix = df_sin_nulos[['nota_final_materia', 'nota_parcial', 'score']].corr()\n",
    "sns.heatmap(correlation_matrix, annot=True, cmap='coolwarm')\n",
    "plt.title('Matriz de Correlación')\n",
    "plt.show()"
   ]
  },
  {
   "cell_type": "code",
   "execution_count": 53,
   "metadata": {},
   "outputs": [
    {
     "name": "stdout",
     "output_type": "stream",
     "text": [
      "Correlación entre el promedio de score y nota_parcial con nota_final_materia: 0.7627305129098438\n"
     ]
    },
    {
     "name": "stderr",
     "output_type": "stream",
     "text": [
      "C:\\Users\\pakin\\AppData\\Local\\Temp\\ipykernel_3916\\940515980.py:1: SettingWithCopyWarning: \n",
      "A value is trying to be set on a copy of a slice from a DataFrame.\n",
      "Try using .loc[row_indexer,col_indexer] = value instead\n",
      "\n",
      "See the caveats in the documentation: https://pandas.pydata.org/pandas-docs/stable/user_guide/indexing.html#returning-a-view-versus-a-copy\n",
      "  df_sin_nulos['promedio_score_nota_parcial'] = df_sin_nulos[['score', 'nota_parcial']].mean(axis=1)\n"
     ]
    }
   ],
   "source": [
    "df_sin_nulos['promedio_score_nota_parcial'] = df_sin_nulos[['score', 'nota_parcial']].mean(axis=1)\n",
    "correlacion = df_sin_nulos['promedio_score_nota_parcial'].corr(df_sin_nulos['nota_final_materia'])\n"
   ]
  },
  {
   "cell_type": "code",
   "execution_count": 55,
   "metadata": {},
   "outputs": [
    {
     "data": {
      "image/png": "[encoded data removed]",
      "text/plain": [
       "<Figure size 1000x600 with 1 Axes>"
      ]
     },
     "metadata": {},
     "output_type": "display_data"
    },
    {
     "name": "stdout",
     "output_type": "stream",
     "text": [
      "Correlación entre el promedio de score y nota_parcial con nota_final_materia: 0.7627305129098438\n"
     ]
    }
   ],
   "source": [
    "plt.figure(figsize=(10, 6))\n",
    "sns.scatterplot(x='promedio_score_nota_parcial', y='nota_final_materia', data=df_sin_nulos)\n",
    "plt.title('Relación entre Promedio de Score y Nota Parcial con Nota Final Materia')\n",
    "plt.xlabel('Promedio de Score y Nota Parcial')\n",
    "plt.ylabel('Nota Final Materia')\n",
    "plt.show()\n",
    "print(f'Correlación entre el promedio de score y nota_parcial con nota_final_materia: {correlacion}')\n"
   ]
  },
  {
   "cell_type": "markdown",
   "metadata": {},
   "source": [
    "La correlación entre el promedio de las notas parciales y los puntajes de las tareas (score) con la nota final de la materia es de aproximadamente 0.76. \n",
    "\n",
    "Esto indica una correlación positiva fuerte, lo que sugiere que los estudiantes que tienen mejores promedios en sus notas parciales y puntajes de tareas \n",
    "tienden a obtener mejores notas finales en la materia.\n",
    "\n",
    "Este hallazgo es consistente con la expectativa de que un buen rendimiento durante el curso (se refleja tanto en las notas parciales como en los puntajes de las tareas) está asociado con un buen rendimiento en el examen final."
   ]
  },
  {
   "cell_type": "code",
   "execution_count": 61,
   "metadata": {},
   "outputs": [
    {
     "data": {
      "image/png": "[encoded data removed]",
      "text/plain": [
       "<Figure size 1200x600 with 1 Axes>"
      ]
     },
     "metadata": {},
     "output_type": "display_data"
    }
   ],
   "source": [
    "# Calcular el promedio de nota_final_materia por particion\n",
    "promedio_nota_final_por_particion = df_sin_nulos.groupby('particion')['nota_final_materia'].mean().reset_index()\n",
    "\n",
    "# Graficar el promedio de nota_final_materia por particion\n",
    "plt.figure(figsize=(12, 6))\n",
    "sns.lineplot(data=promedio_nota_final_por_particion, x='particion', y='nota_final_materia')\n",
    "plt.title('Promedio de Nota Final Materia por Particion')\n",
    "plt.xlabel('Particion')\n",
    "plt.ylabel('Promedio Nota Final Materia')\n",
    "plt.show()\n"
   ]
  },
  {
   "cell_type": "markdown",
   "metadata": {},
   "source": [
    "El análisis de tendencias temporales basado en la variable 'particion' revela información valiosa sobre cómo varían las notas finales a lo largo del tiempo. \n",
    "El gráfico de lineas del promedio de 'nota_final_materia' por 'particion' muestra cómo fluctúan las notas finales en diferentes periodos. Se observa que, en general, \n",
    "los promedios de notas finales tienden a bajar a medida que avanza el ciclo académico, con una caída notable hacia el final de las clases. En particular, la partición 48 \n",
    "indica una gran disminución en el promedio de las notas finales, lo que podría sugerir dificultades adicionales que enfrentan los estudiantes en esta fase del curso."
   ]
  },
  {
   "cell_type": "markdown",
   "metadata": {},
   "source": [
    "Agrupación y agregación"
   ]
  },
  {
   "cell_type": "code",
   "execution_count": null,
   "metadata": {},
   "outputs": [],
   "source": [
    "# Lista de columnas que deben ser convertidas a datetime\n",
    "fecha_columnas = [\n",
    "    'fecha_mesa_epoch', 'ass_created_at', 'ass_due_at', \n",
    "    'ass_unlock_at', 'ass_lock_at', 's_submitted_at', \n",
    "    's_graded_at', 's_created_at'\n",
    "]\n",
    "# Convertir las columnas de fecha a datetime\n",
    "for col in fecha_columnas:\n",
    "    df_sin_nulos[col] = pd.to_datetime(df_sin_nulos[col], unit='s')"
   ]
  },
  {
   "cell_type": "code",
   "execution_count": 72,
   "metadata": {},
   "outputs": [
    {
     "data": {
      "text/html": [
       "<div>\n",
       "<style scoped>\n",
       "    .dataframe tbody tr th:only-of-type {\n",
       "        vertical-align: middle;\n",
       "    }\n",
       "\n",
       "    .dataframe tbody tr th {\n",
       "        vertical-align: top;\n",
       "    }\n",
       "\n",
       "    .dataframe thead th {\n",
       "        text-align: right;\n",
       "    }\n",
       "</style>\n",
       "<table border=\"1\" class=\"dataframe\">\n",
       "  <thead>\n",
       "    <tr style=\"text-align: right;\">\n",
       "      <th></th>\n",
       "      <th>particion</th>\n",
       "      <th>periodo</th>\n",
       "      <th>nota_final_materia</th>\n",
       "      <th>fecha_mesa_epoch</th>\n",
       "      <th>nombre_examen</th>\n",
       "      <th>nota_parcial</th>\n",
       "      <th>assignment_id</th>\n",
       "      <th>ass_name</th>\n",
       "      <th>ass_created_at</th>\n",
       "      <th>ass_due_at</th>\n",
       "      <th>...</th>\n",
       "      <th>submission_type</th>\n",
       "      <th>s_submitted_at</th>\n",
       "      <th>s_graded_at</th>\n",
       "      <th>s_created_at</th>\n",
       "      <th>user_uuid</th>\n",
       "      <th>course_uuid</th>\n",
       "      <th>course_name</th>\n",
       "      <th>legajo</th>\n",
       "      <th>nota_parcial_estimada</th>\n",
       "      <th>promedio_score_nota_parcial</th>\n",
       "    </tr>\n",
       "  </thead>\n",
       "  <tbody>\n",
       "    <tr>\n",
       "      <th>15</th>\n",
       "      <td>15</td>\n",
       "      <td>1-2022</td>\n",
       "      <td>9.0</td>\n",
       "      <td>NaT</td>\n",
       "      <td>NaN</td>\n",
       "      <td>4.0</td>\n",
       "      <td>NaN</td>\n",
       "      <td>NaN</td>\n",
       "      <td>NaT</td>\n",
       "      <td>NaT</td>\n",
       "      <td>...</td>\n",
       "      <td>external_tool</td>\n",
       "      <td>2022-04-03 03:19:59</td>\n",
       "      <td>2022-04-03 03:29:45</td>\n",
       "      <td>2022-08-01 22:27:07</td>\n",
       "      <td>13df535e-065c-4593-98ea-5b1e29015b7d</td>\n",
       "      <td>09614210-fce2-48bc-93e3-bc4bd441fe00</td>\n",
       "      <td>Progressive homogeneous structure</td>\n",
       "      <td>834066QFF</td>\n",
       "      <td>4.0</td>\n",
       "      <td>7.00</td>\n",
       "    </tr>\n",
       "    <tr>\n",
       "      <th>21</th>\n",
       "      <td>21</td>\n",
       "      <td>1-2022</td>\n",
       "      <td>9.0</td>\n",
       "      <td>NaT</td>\n",
       "      <td>NaN</td>\n",
       "      <td>5.5</td>\n",
       "      <td>195293.0</td>\n",
       "      <td>Trabajo Práctico 1 [TP1]</td>\n",
       "      <td>2022-02-24 18:46:00</td>\n",
       "      <td>2022-04-19 02:59:59</td>\n",
       "      <td>...</td>\n",
       "      <td>online_upload</td>\n",
       "      <td>2022-04-18 19:56:31</td>\n",
       "      <td>2022-04-25 00:55:57</td>\n",
       "      <td>2022-08-01 22:27:07</td>\n",
       "      <td>13df535e-065c-4593-98ea-5b1e29015b7d</td>\n",
       "      <td>09614210-fce2-48bc-93e3-bc4bd441fe00</td>\n",
       "      <td>Progressive homogeneous structure</td>\n",
       "      <td>834066QFF</td>\n",
       "      <td>5.5</td>\n",
       "      <td>6.25</td>\n",
       "    </tr>\n",
       "    <tr>\n",
       "      <th>22</th>\n",
       "      <td>21</td>\n",
       "      <td>1-2022</td>\n",
       "      <td>9.0</td>\n",
       "      <td>NaT</td>\n",
       "      <td>NaN</td>\n",
       "      <td>4.0</td>\n",
       "      <td>195293.0</td>\n",
       "      <td>Trabajo Práctico 1 [TP1]</td>\n",
       "      <td>2022-02-24 18:46:00</td>\n",
       "      <td>2022-04-19 02:59:59</td>\n",
       "      <td>...</td>\n",
       "      <td>external_tool</td>\n",
       "      <td>2022-04-18 01:09:33</td>\n",
       "      <td>2022-04-18 01:12:23</td>\n",
       "      <td>2022-08-01 22:27:07</td>\n",
       "      <td>13df535e-065c-4593-98ea-5b1e29015b7d</td>\n",
       "      <td>09614210-fce2-48bc-93e3-bc4bd441fe00</td>\n",
       "      <td>Progressive homogeneous structure</td>\n",
       "      <td>834066QFF</td>\n",
       "      <td>4.0</td>\n",
       "      <td>7.00</td>\n",
       "    </tr>\n",
       "    <tr>\n",
       "      <th>33</th>\n",
       "      <td>32</td>\n",
       "      <td>1-2022</td>\n",
       "      <td>9.0</td>\n",
       "      <td>NaT</td>\n",
       "      <td>NaN</td>\n",
       "      <td>4.0</td>\n",
       "      <td>195294.0</td>\n",
       "      <td>Trabajo Práctico 2 [TP2]</td>\n",
       "      <td>2022-02-24 18:46:00</td>\n",
       "      <td>2022-05-17 02:59:59</td>\n",
       "      <td>...</td>\n",
       "      <td>external_tool</td>\n",
       "      <td>2022-05-15 21:22:53</td>\n",
       "      <td>2022-05-15 21:23:46</td>\n",
       "      <td>2022-08-01 22:27:07</td>\n",
       "      <td>13df535e-065c-4593-98ea-5b1e29015b7d</td>\n",
       "      <td>09614210-fce2-48bc-93e3-bc4bd441fe00</td>\n",
       "      <td>Progressive homogeneous structure</td>\n",
       "      <td>834066QFF</td>\n",
       "      <td>4.0</td>\n",
       "      <td>7.00</td>\n",
       "    </tr>\n",
       "    <tr>\n",
       "      <th>34</th>\n",
       "      <td>32</td>\n",
       "      <td>1-2022</td>\n",
       "      <td>9.0</td>\n",
       "      <td>NaT</td>\n",
       "      <td>NaN</td>\n",
       "      <td>6.5</td>\n",
       "      <td>195294.0</td>\n",
       "      <td>Trabajo Práctico 2 [TP2]</td>\n",
       "      <td>2022-02-24 18:46:00</td>\n",
       "      <td>2022-05-17 02:59:59</td>\n",
       "      <td>...</td>\n",
       "      <td>online_upload</td>\n",
       "      <td>2022-05-15 21:19:04</td>\n",
       "      <td>2022-05-22 16:10:59</td>\n",
       "      <td>2022-08-01 22:27:07</td>\n",
       "      <td>13df535e-065c-4593-98ea-5b1e29015b7d</td>\n",
       "      <td>09614210-fce2-48bc-93e3-bc4bd441fe00</td>\n",
       "      <td>Progressive homogeneous structure</td>\n",
       "      <td>834066QFF</td>\n",
       "      <td>6.5</td>\n",
       "      <td>5.75</td>\n",
       "    </tr>\n",
       "  </tbody>\n",
       "</table>\n",
       "<p>5 rows × 26 columns</p>\n",
       "</div>"
      ],
      "text/plain": [
       "    particion periodo  nota_final_materia fecha_mesa_epoch nombre_examen  \\\n",
       "15         15  1-2022                 9.0              NaT           NaN   \n",
       "21         21  1-2022                 9.0              NaT           NaN   \n",
       "22         21  1-2022                 9.0              NaT           NaN   \n",
       "33         32  1-2022                 9.0              NaT           NaN   \n",
       "34         32  1-2022                 9.0              NaT           NaN   \n",
       "\n",
       "    nota_parcial  assignment_id                  ass_name      ass_created_at  \\\n",
       "15           4.0            NaN                       NaN                 NaT   \n",
       "21           5.5       195293.0  Trabajo Práctico 1 [TP1] 2022-02-24 18:46:00   \n",
       "22           4.0       195293.0  Trabajo Práctico 1 [TP1] 2022-02-24 18:46:00   \n",
       "33           4.0       195294.0  Trabajo Práctico 2 [TP2] 2022-02-24 18:46:00   \n",
       "34           6.5       195294.0  Trabajo Práctico 2 [TP2] 2022-02-24 18:46:00   \n",
       "\n",
       "            ass_due_at  ... submission_type      s_submitted_at  \\\n",
       "15                 NaT  ...   external_tool 2022-04-03 03:19:59   \n",
       "21 2022-04-19 02:59:59  ...   online_upload 2022-04-18 19:56:31   \n",
       "22 2022-04-19 02:59:59  ...   external_tool 2022-04-18 01:09:33   \n",
       "33 2022-05-17 02:59:59  ...   external_tool 2022-05-15 21:22:53   \n",
       "34 2022-05-17 02:59:59  ...   online_upload 2022-05-15 21:19:04   \n",
       "\n",
       "           s_graded_at        s_created_at  \\\n",
       "15 2022-04-03 03:29:45 2022-08-01 22:27:07   \n",
       "21 2022-04-25 00:55:57 2022-08-01 22:27:07   \n",
       "22 2022-04-18 01:12:23 2022-08-01 22:27:07   \n",
       "33 2022-05-15 21:23:46 2022-08-01 22:27:07   \n",
       "34 2022-05-22 16:10:59 2022-08-01 22:27:07   \n",
       "\n",
       "                               user_uuid  \\\n",
       "15  13df535e-065c-4593-98ea-5b1e29015b7d   \n",
       "21  13df535e-065c-4593-98ea-5b1e29015b7d   \n",
       "22  13df535e-065c-4593-98ea-5b1e29015b7d   \n",
       "33  13df535e-065c-4593-98ea-5b1e29015b7d   \n",
       "34  13df535e-065c-4593-98ea-5b1e29015b7d   \n",
       "\n",
       "                             course_uuid                        course_name  \\\n",
       "15  09614210-fce2-48bc-93e3-bc4bd441fe00  Progressive homogeneous structure   \n",
       "21  09614210-fce2-48bc-93e3-bc4bd441fe00  Progressive homogeneous structure   \n",
       "22  09614210-fce2-48bc-93e3-bc4bd441fe00  Progressive homogeneous structure   \n",
       "33  09614210-fce2-48bc-93e3-bc4bd441fe00  Progressive homogeneous structure   \n",
       "34  09614210-fce2-48bc-93e3-bc4bd441fe00  Progressive homogeneous structure   \n",
       "\n",
       "       legajo nota_parcial_estimada promedio_score_nota_parcial  \n",
       "15  834066QFF                   4.0                        7.00  \n",
       "21  834066QFF                   5.5                        6.25  \n",
       "22  834066QFF                   4.0                        7.00  \n",
       "33  834066QFF                   4.0                        7.00  \n",
       "34  834066QFF                   6.5                        5.75  \n",
       "\n",
       "[5 rows x 26 columns]"
      ]
     },
     "execution_count": 72,
     "metadata": {},
     "output_type": "execute_result"
    }
   ],
   "source": [
    "df_sin_nulos.head(5)"
   ]
  },
  {
   "cell_type": "code",
   "execution_count": 96,
   "metadata": {},
   "outputs": [],
   "source": [
    "# Agrupar por user_uuid, course_uuid y particion, y calcular estadísticas relevantes\n",
    "grouped_df = df_sin_nulos.groupby(['user_uuid', 'course_uuid', 'particion']).agg({\n",
    "    'nota_final_materia': ['mean', 'median', 'var'],\n",
    "    'nota_parcial': ['mean', 'median', 'var'],\n",
    "    'score': ['mean', 'median', 'var'],\n",
    "    'ass_name': 'count',\n",
    "    'nombre_examen': 'count',\n",
    "    's_created_at': 'first',  # Tomamos el primer valor de s_created_at para cada grupo\n",
    "    's_submitted_at': 'first' # Tomamos el primer valor de s_submitted_at para cada grupo\n",
    "}).reset_index()\n",
    "\n",
    "# Renombrar columnas para facilitar su uso\n",
    "grouped_df.columns = [\n",
    "    'user_uuid', 'course_uuid', 'particion', \n",
    "    'nota_final_media', 'nota_final_mediana', 'nota_final_varianza',\n",
    "    'nota_parcial_media', 'nota_parcial_mediana', 'nota_parcial_varianza',\n",
    "    'score_media', 'score_mediana', 'score_varianza',\n",
    "    'frecuencia_tareas', 'frecuencia_examenes',\n",
    "    's_created_at', 's_submitted_at'\n",
    "]\n",
    "\n",
    "# Mantener la columna original de nota_final_materia\n",
    "grouped_df['nota_final_materia'] = df_sin_nulos.groupby(['user_uuid', 'course_uuid', 'particion'])['nota_final_materia'].first().values"
   ]
  },
  {
   "cell_type": "markdown",
   "metadata": {},
   "source": [
    "La frecuencia de tareas y exámenes proviene de contar la cantidad de ocurrencias de ass_name (nombre de la tarea) y nombre_examen (nombre del examen) respectivamente dentro de cada grupo. Esto nos da una idea de cuántas tareas y exámenes fueron realizados en cada partición temporal para cada combinación de user_uuid y course_uuid."
   ]
  },
  {
   "cell_type": "code",
   "execution_count": 97,
   "metadata": {},
   "outputs": [
    {
     "data": {
      "text/html": [
       "<div>\n",
       "<style scoped>\n",
       "    .dataframe tbody tr th:only-of-type {\n",
       "        vertical-align: middle;\n",
       "    }\n",
       "\n",
       "    .dataframe tbody tr th {\n",
       "        vertical-align: top;\n",
       "    }\n",
       "\n",
       "    .dataframe thead th {\n",
       "        text-align: right;\n",
       "    }\n",
       "</style>\n",
       "<table border=\"1\" class=\"dataframe\">\n",
       "  <thead>\n",
       "    <tr style=\"text-align: right;\">\n",
       "      <th></th>\n",
       "      <th>user_uuid</th>\n",
       "      <th>course_uuid</th>\n",
       "      <th>particion</th>\n",
       "      <th>nota_final_media</th>\n",
       "      <th>nota_final_mediana</th>\n",
       "      <th>nota_final_varianza</th>\n",
       "      <th>nota_parcial_media</th>\n",
       "      <th>nota_parcial_mediana</th>\n",
       "      <th>nota_parcial_varianza</th>\n",
       "      <th>score_media</th>\n",
       "      <th>score_mediana</th>\n",
       "      <th>score_varianza</th>\n",
       "      <th>frecuencia_tareas</th>\n",
       "      <th>frecuencia_examenes</th>\n",
       "      <th>s_created_at</th>\n",
       "      <th>s_submitted_at</th>\n",
       "      <th>nota_final_materia</th>\n",
       "    </tr>\n",
       "  </thead>\n",
       "  <tbody>\n",
       "    <tr>\n",
       "      <th>0</th>\n",
       "      <td>01103370-3046-4bc0-a8f8-85858ec0ec88</td>\n",
       "      <td>2dd2ca01-a672-4eca-aca7-6fbc8cd01953</td>\n",
       "      <td>26</td>\n",
       "      <td>7.0</td>\n",
       "      <td>7.0</td>\n",
       "      <td>NaN</td>\n",
       "      <td>2.0000</td>\n",
       "      <td>2.0</td>\n",
       "      <td>NaN</td>\n",
       "      <td>10.000</td>\n",
       "      <td>10.0</td>\n",
       "      <td>NaN</td>\n",
       "      <td>0</td>\n",
       "      <td>0</td>\n",
       "      <td>2022-08-01 22:27:07</td>\n",
       "      <td>2022-04-09 11:28:38</td>\n",
       "      <td>7.0</td>\n",
       "    </tr>\n",
       "    <tr>\n",
       "      <th>1</th>\n",
       "      <td>01103370-3046-4bc0-a8f8-85858ec0ec88</td>\n",
       "      <td>2dd2ca01-a672-4eca-aca7-6fbc8cd01953</td>\n",
       "      <td>31</td>\n",
       "      <td>7.0</td>\n",
       "      <td>7.0</td>\n",
       "      <td>NaN</td>\n",
       "      <td>2.0000</td>\n",
       "      <td>2.0</td>\n",
       "      <td>NaN</td>\n",
       "      <td>10.000</td>\n",
       "      <td>10.0</td>\n",
       "      <td>NaN</td>\n",
       "      <td>1</td>\n",
       "      <td>0</td>\n",
       "      <td>2022-08-01 22:27:07</td>\n",
       "      <td>2022-04-16 20:00:20</td>\n",
       "      <td>7.0</td>\n",
       "    </tr>\n",
       "    <tr>\n",
       "      <th>2</th>\n",
       "      <td>01103370-3046-4bc0-a8f8-85858ec0ec88</td>\n",
       "      <td>2dd2ca01-a672-4eca-aca7-6fbc8cd01953</td>\n",
       "      <td>36</td>\n",
       "      <td>7.0</td>\n",
       "      <td>7.0</td>\n",
       "      <td>NaN</td>\n",
       "      <td>2.0000</td>\n",
       "      <td>2.0</td>\n",
       "      <td>NaN</td>\n",
       "      <td>10.000</td>\n",
       "      <td>10.0</td>\n",
       "      <td>NaN</td>\n",
       "      <td>0</td>\n",
       "      <td>0</td>\n",
       "      <td>2022-08-01 22:27:07</td>\n",
       "      <td>2022-04-25 17:33:35</td>\n",
       "      <td>7.0</td>\n",
       "    </tr>\n",
       "    <tr>\n",
       "      <th>3</th>\n",
       "      <td>01103370-3046-4bc0-a8f8-85858ec0ec88</td>\n",
       "      <td>2dd2ca01-a672-4eca-aca7-6fbc8cd01953</td>\n",
       "      <td>49</td>\n",
       "      <td>7.0</td>\n",
       "      <td>7.0</td>\n",
       "      <td>0.0</td>\n",
       "      <td>2.6375</td>\n",
       "      <td>2.7</td>\n",
       "      <td>0.252292</td>\n",
       "      <td>8.725</td>\n",
       "      <td>8.6</td>\n",
       "      <td>1.009167</td>\n",
       "      <td>4</td>\n",
       "      <td>0</td>\n",
       "      <td>2022-08-01 22:27:07</td>\n",
       "      <td>2022-05-16 15:38:49</td>\n",
       "      <td>7.0</td>\n",
       "    </tr>\n",
       "    <tr>\n",
       "      <th>4</th>\n",
       "      <td>01103370-3046-4bc0-a8f8-85858ec0ec88</td>\n",
       "      <td>a8c25bca-c5e5-4225-b51e-f61468d20386</td>\n",
       "      <td>28</td>\n",
       "      <td>9.0</td>\n",
       "      <td>9.0</td>\n",
       "      <td>NaN</td>\n",
       "      <td>4.0000</td>\n",
       "      <td>4.0</td>\n",
       "      <td>NaN</td>\n",
       "      <td>10.000</td>\n",
       "      <td>10.0</td>\n",
       "      <td>NaN</td>\n",
       "      <td>0</td>\n",
       "      <td>0</td>\n",
       "      <td>2022-08-01 22:27:07</td>\n",
       "      <td>2022-06-02 23:37:37</td>\n",
       "      <td>9.0</td>\n",
       "    </tr>\n",
       "  </tbody>\n",
       "</table>\n",
       "</div>"
      ],
      "text/plain": [
       "                              user_uuid                           course_uuid  \\\n",
       "0  01103370-3046-4bc0-a8f8-85858ec0ec88  2dd2ca01-a672-4eca-aca7-6fbc8cd01953   \n",
       "1  01103370-3046-4bc0-a8f8-85858ec0ec88  2dd2ca01-a672-4eca-aca7-6fbc8cd01953   \n",
       "2  01103370-3046-4bc0-a8f8-85858ec0ec88  2dd2ca01-a672-4eca-aca7-6fbc8cd01953   \n",
       "3  01103370-3046-4bc0-a8f8-85858ec0ec88  2dd2ca01-a672-4eca-aca7-6fbc8cd01953   \n",
       "4  01103370-3046-4bc0-a8f8-85858ec0ec88  a8c25bca-c5e5-4225-b51e-f61468d20386   \n",
       "\n",
       "   particion  nota_final_media  nota_final_mediana  nota_final_varianza  \\\n",
       "0         26               7.0                 7.0                  NaN   \n",
       "1         31               7.0                 7.0                  NaN   \n",
       "2         36               7.0                 7.0                  NaN   \n",
       "3         49               7.0                 7.0                  0.0   \n",
       "4         28               9.0                 9.0                  NaN   \n",
       "\n",
       "   nota_parcial_media  nota_parcial_mediana  nota_parcial_varianza  \\\n",
       "0              2.0000                   2.0                    NaN   \n",
       "1              2.0000                   2.0                    NaN   \n",
       "2              2.0000                   2.0                    NaN   \n",
       "3              2.6375                   2.7               0.252292   \n",
       "4              4.0000                   4.0                    NaN   \n",
       "\n",
       "   score_media  score_mediana  score_varianza  frecuencia_tareas  \\\n",
       "0       10.000           10.0             NaN                  0   \n",
       "1       10.000           10.0             NaN                  1   \n",
       "2       10.000           10.0             NaN                  0   \n",
       "3        8.725            8.6        1.009167                  4   \n",
       "4       10.000           10.0             NaN                  0   \n",
       "\n",
       "   frecuencia_examenes        s_created_at      s_submitted_at  \\\n",
       "0                    0 2022-08-01 22:27:07 2022-04-09 11:28:38   \n",
       "1                    0 2022-08-01 22:27:07 2022-04-16 20:00:20   \n",
       "2                    0 2022-08-01 22:27:07 2022-04-25 17:33:35   \n",
       "3                    0 2022-08-01 22:27:07 2022-05-16 15:38:49   \n",
       "4                    0 2022-08-01 22:27:07 2022-06-02 23:37:37   \n",
       "\n",
       "   nota_final_materia  \n",
       "0                 7.0  \n",
       "1                 7.0  \n",
       "2                 7.0  \n",
       "3                 7.0  \n",
       "4                 9.0  "
      ]
     },
     "execution_count": 97,
     "metadata": {},
     "output_type": "execute_result"
    }
   ],
   "source": [
    "grouped_df.head(5)"
   ]
  },
  {
   "cell_type": "code",
   "execution_count": 98,
   "metadata": {},
   "outputs": [],
   "source": [
    "# Convertir s_created_at y s_submitted_at a datetime\n",
    "grouped_df['s_created_at'] = pd.to_datetime(grouped_df['s_created_at'])\n",
    "grouped_df['s_submitted_at'] = pd.to_datetime(grouped_df['s_submitted_at'])\n",
    "\n",
    "# Calcular el tiempo entre la creación y la entrega de tareas en horas\n",
    "grouped_df['tiempo_entrega'] = (grouped_df['s_created_at'] - grouped_df['s_submitted_at']).dt.days\n"
   ]
  },
  {
   "cell_type": "code",
   "execution_count": 99,
   "metadata": {},
   "outputs": [
    {
     "data": {
      "text/plain": [
       "user_uuid                   0\n",
       "course_uuid                 0\n",
       "particion                   0\n",
       "nota_final_media            0\n",
       "nota_final_mediana          0\n",
       "nota_final_varianza      8653\n",
       "nota_parcial_media          0\n",
       "nota_parcial_mediana        0\n",
       "nota_parcial_varianza    8653\n",
       "score_media                 0\n",
       "score_mediana               0\n",
       "score_varianza           8653\n",
       "frecuencia_tareas           0\n",
       "frecuencia_examenes         0\n",
       "s_created_at                0\n",
       "s_submitted_at              0\n",
       "nota_final_materia          0\n",
       "tiempo_entrega              0\n",
       "dtype: int64"
      ]
     },
     "execution_count": 99,
     "metadata": {},
     "output_type": "execute_result"
    }
   ],
   "source": [
    "grouped_df.isnull().sum()"
   ]
  },
  {
   "cell_type": "code",
   "execution_count": 100,
   "metadata": {},
   "outputs": [],
   "source": [
    "# Calcular la media de las varianzas\n",
    "media_nota_final_varianza = grouped_df['nota_final_varianza'].mean()\n",
    "media_nota_parcial_varianza = grouped_df['nota_parcial_varianza'].mean()\n",
    "media_score_varianza = grouped_df['score_varianza'].mean()\n",
    "\n",
    "# Rellenar los valores nulos con la media en cada columna\n",
    "grouped_df['nota_final_varianza'].fillna(media_nota_final_varianza, inplace=True)\n",
    "grouped_df['nota_parcial_varianza'].fillna(media_nota_parcial_varianza, inplace=True)\n",
    "grouped_df['score_varianza'].fillna(media_score_varianza, inplace=True)"
   ]
  },
  {
   "cell_type": "code",
   "execution_count": 101,
   "metadata": {},
   "outputs": [
    {
     "data": {
      "text/plain": [
       "user_uuid                0\n",
       "course_uuid              0\n",
       "particion                0\n",
       "nota_final_media         0\n",
       "nota_final_mediana       0\n",
       "nota_final_varianza      0\n",
       "nota_parcial_media       0\n",
       "nota_parcial_mediana     0\n",
       "nota_parcial_varianza    0\n",
       "score_media              0\n",
       "score_mediana            0\n",
       "score_varianza           0\n",
       "frecuencia_tareas        0\n",
       "frecuencia_examenes      0\n",
       "s_created_at             0\n",
       "s_submitted_at           0\n",
       "nota_final_materia       0\n",
       "tiempo_entrega           0\n",
       "dtype: int64"
      ]
     },
     "execution_count": 101,
     "metadata": {},
     "output_type": "execute_result"
    }
   ],
   "source": [
    "grouped_df.isnull().sum()"
   ]
  },
  {
   "cell_type": "markdown",
   "metadata": {},
   "source": [
    "Modelado"
   ]
  },
  {
   "cell_type": "code",
   "execution_count": 111,
   "metadata": {},
   "outputs": [],
   "source": [
    "from sklearn.model_selection import train_test_split\n",
    "from sklearn.preprocessing import StandardScaler\n",
    "from sklearn.metrics import accuracy_score, precision_score, recall_score, f1_score, confusion_matrix, classification_report\n",
    "from sklearn.model_selection import cross_val_score, GridSearchCV, RandomizedSearchCV\n",
    "from sklearn.linear_model import LogisticRegression\n",
    "from sklearn.tree import DecisionTreeClassifier\n",
    "from sklearn.ensemble import RandomForestClassifier, GradientBoostingClassifier, RandomForestRegressor\n",
    "from sklearn.metrics import mean_squared_error, r2_score"
   ]
  },
  {
   "cell_type": "code",
   "execution_count": 102,
   "metadata": {},
   "outputs": [],
   "source": [
    "# Preparar el dataset para el modelado\n",
    "# Incluimos las nuevas características y eliminamos las columnas no relevantes\n",
    "X = grouped_df.drop(columns=[\n",
    "    'user_uuid', 'course_uuid', 'particion', \n",
    "    's_created_at', 's_submitted_at', 'nota_final_media', \n",
    "    'nota_final_mediana', 'nota_final_varianza'  # Estas columnas no deben estar en X\n",
    "])\n",
    "\n",
    "# La variable objetivo es 'nota_final_materia'\n",
    "y = grouped_df['nota_final_materia']\n",
    "\n",
    "# División de datos en entrenamiento y prueba\n",
    "X_train, X_test, y_train, y_test = train_test_split(X, y, test_size=0.2, random_state=42)\n",
    "\n",
    "# Estandarizar características\n",
    "scaler = StandardScaler()\n",
    "X_train_scaled = scaler.fit_transform(X_train)\n",
    "X_test_scaled = scaler.transform(X_test)"
   ]
  },
  {
   "cell_type": "markdown",
   "metadata": {},
   "source": [
    "Vamos a comparar varios modelos: Regresión Logística, Árboles de Decisión, Random Forest y Gradient Boosting."
   ]
  },
  {
   "cell_type": "code",
   "execution_count": 109,
   "metadata": {},
   "outputs": [
    {
     "name": "stderr",
     "output_type": "stream",
     "text": [
      "c:\\Users\\pakin\\AppData\\Local\\Programs\\Python\\Python310\\lib\\site-packages\\sklearn\\linear_model\\_logistic.py:460: ConvergenceWarning: lbfgs failed to converge (status=1):\n",
      "STOP: TOTAL NO. of ITERATIONS REACHED LIMIT.\n",
      "\n",
      "Increase the number of iterations (max_iter) or scale the data as shown in:\n",
      "    https://scikit-learn.org/stable/modules/preprocessing.html\n",
      "Please also refer to the documentation for alternative solver options:\n",
      "    https://scikit-learn.org/stable/modules/linear_model.html#logistic-regression\n",
      "  n_iter_i = _check_optimize_result(\n"
     ]
    },
    {
     "name": "stdout",
     "output_type": "stream",
     "text": [
      "                     Mean Squared Error  R^2 Score\n",
      "Logistic Regression            0.022181   0.992308\n",
      "Decision Tree                  0.000000   1.000000\n",
      "Random Forest                  0.004806   0.998333\n",
      "Gradient Boosting              0.000000   1.000000\n"
     ]
    }
   ],
   "source": [
    "# Definir los modelos\n",
    "models = {\n",
    "    \"Logistic Regression\": LogisticRegression(),\n",
    "    \"Decision Tree\": DecisionTreeClassifier(),\n",
    "    \"Random Forest\": RandomForestClassifier(),\n",
    "    \"Gradient Boosting\": GradientBoostingClassifier()\n",
    "}\n",
    "\n",
    "# Entrenar y evaluar los modelos\n",
    "results = {}\n",
    "for model_name, model in models.items():\n",
    "    # Entrenar el modelo\n",
    "    model.fit(X_train_scaled, y_train)\n",
    "    \n",
    "    # Predecir en el conjunto de prueba\n",
    "    y_pred = model.predict(X_test_scaled)\n",
    "    \n",
    "    # Calcular las métricas\n",
    "    mse = mean_squared_error(y_test, y_pred)\n",
    "    r2 = r2_score(y_test, y_pred)\n",
    "    \n",
    "    # Guardar los resultados\n",
    "    results[model_name] = {\n",
    "        \"Mean Squared Error\": mse,\n",
    "        \"R^2 Score\": r2\n",
    "    }\n",
    "    \n",
    "\n",
    "# Comparar los resultados\n",
    "results_df = pd.DataFrame(results).T\n",
    "print(results_df)\n"
   ]
  },
  {
   "cell_type": "code",
   "execution_count": 110,
   "metadata": {},
   "outputs": [
    {
     "name": "stderr",
     "output_type": "stream",
     "text": [
      "c:\\Users\\pakin\\AppData\\Local\\Programs\\Python\\Python310\\lib\\site-packages\\sklearn\\linear_model\\_logistic.py:460: ConvergenceWarning: lbfgs failed to converge (status=1):\n",
      "STOP: TOTAL NO. of ITERATIONS REACHED LIMIT.\n",
      "\n",
      "Increase the number of iterations (max_iter) or scale the data as shown in:\n",
      "    https://scikit-learn.org/stable/modules/preprocessing.html\n",
      "Please also refer to the documentation for alternative solver options:\n",
      "    https://scikit-learn.org/stable/modules/linear_model.html#logistic-regression\n",
      "  n_iter_i = _check_optimize_result(\n",
      "c:\\Users\\pakin\\AppData\\Local\\Programs\\Python\\Python310\\lib\\site-packages\\sklearn\\linear_model\\_logistic.py:460: ConvergenceWarning: lbfgs failed to converge (status=1):\n",
      "STOP: TOTAL NO. of ITERATIONS REACHED LIMIT.\n",
      "\n",
      "Increase the number of iterations (max_iter) or scale the data as shown in:\n",
      "    https://scikit-learn.org/stable/modules/preprocessing.html\n",
      "Please also refer to the documentation for alternative solver options:\n",
      "    https://scikit-learn.org/stable/modules/linear_model.html#logistic-regression\n",
      "  n_iter_i = _check_optimize_result(\n",
      "c:\\Users\\pakin\\AppData\\Local\\Programs\\Python\\Python310\\lib\\site-packages\\sklearn\\linear_model\\_logistic.py:460: ConvergenceWarning: lbfgs failed to converge (status=1):\n",
      "STOP: TOTAL NO. of ITERATIONS REACHED LIMIT.\n",
      "\n",
      "Increase the number of iterations (max_iter) or scale the data as shown in:\n",
      "    https://scikit-learn.org/stable/modules/preprocessing.html\n",
      "Please also refer to the documentation for alternative solver options:\n",
      "    https://scikit-learn.org/stable/modules/linear_model.html#logistic-regression\n",
      "  n_iter_i = _check_optimize_result(\n",
      "c:\\Users\\pakin\\AppData\\Local\\Programs\\Python\\Python310\\lib\\site-packages\\sklearn\\linear_model\\_logistic.py:460: ConvergenceWarning: lbfgs failed to converge (status=1):\n",
      "STOP: TOTAL NO. of ITERATIONS REACHED LIMIT.\n",
      "\n",
      "Increase the number of iterations (max_iter) or scale the data as shown in:\n",
      "    https://scikit-learn.org/stable/modules/preprocessing.html\n",
      "Please also refer to the documentation for alternative solver options:\n",
      "    https://scikit-learn.org/stable/modules/linear_model.html#logistic-regression\n",
      "  n_iter_i = _check_optimize_result(\n",
      "c:\\Users\\pakin\\AppData\\Local\\Programs\\Python\\Python310\\lib\\site-packages\\sklearn\\linear_model\\_logistic.py:460: ConvergenceWarning: lbfgs failed to converge (status=1):\n",
      "STOP: TOTAL NO. of ITERATIONS REACHED LIMIT.\n",
      "\n",
      "Increase the number of iterations (max_iter) or scale the data as shown in:\n",
      "    https://scikit-learn.org/stable/modules/preprocessing.html\n",
      "Please also refer to the documentation for alternative solver options:\n",
      "    https://scikit-learn.org/stable/modules/linear_model.html#logistic-regression\n",
      "  n_iter_i = _check_optimize_result(\n"
     ]
    },
    {
     "name": "stdout",
     "output_type": "stream",
     "text": [
      "Model: Logistic Regression\n",
      "Cross-Validated R^2 Score: 0.9896 ± 0.0005\n",
      "------------------------------\n",
      "Model: Decision Tree\n",
      "Cross-Validated R^2 Score: 1.0000 ± 0.0000\n",
      "------------------------------\n",
      "Model: Random Forest\n",
      "Cross-Validated R^2 Score: 0.9968 ± 0.0011\n",
      "------------------------------\n",
      "Model: Gradient Boosting\n",
      "Cross-Validated R^2 Score: 1.0000 ± 0.0000\n",
      "------------------------------\n"
     ]
    }
   ],
   "source": [
    "# Evaluar los modelos utilizando validación cruzada\n",
    "for model_name, model in models.items():\n",
    "    cv_scores = cross_val_score(model, X_train_scaled, y_train, cv=5, scoring='r2')\n",
    "    mean_cv_score = cv_scores.mean()\n",
    "    std_cv_score = cv_scores.std()\n",
    "    \n",
    "    print(f\"Model: {model_name}\")\n",
    "    print(f\"Cross-Validated R^2 Score: {mean_cv_score:.4f} ± {std_cv_score:.4f}\")\n",
    "    print(\"-\" * 30)"
   ]
  },
  {
   "cell_type": "code",
   "execution_count": 121,
   "metadata": {},
   "outputs": [
    {
     "name": "stdout",
     "output_type": "stream",
     "text": [
      "Fitting 5 folds for each of 4 candidates, totalling 20 fits\n",
      "Best Parameters: {'C': 10, 'penalty': 'l2', 'solver': 'lbfgs'}\n",
      "Mean Squared Error: 0.0004\n",
      "R^2 Score: 0.9999\n"
     ]
    }
   ],
   "source": [
    "# Definición del grid de hiperparámetros para Logistic Regression\n",
    "param_grid_lr = {\n",
    "    'penalty': ['l2'],  # Usar l2 para la regularización\n",
    "    'C': [0.01, 0.1, 1, 10],  # Diferentes valores de regularización\n",
    "    'solver': ['lbfgs']\n",
    "}\n",
    "\n",
    "# Búsqueda de hiperparámetros\n",
    "grid_search_lr = GridSearchCV(LogisticRegression(max_iter=10000), param_grid_lr, cv=5, scoring='r2', n_jobs=-1, verbose=2)\n",
    "grid_search_lr.fit(X_train_scaled, y_train)\n",
    "\n",
    "# Mejor estimador\n",
    "best_lr = grid_search_lr.best_estimator_\n",
    "\n",
    "# Predicción y evaluación\n",
    "y_pred_best_lr = best_lr.predict(X_test_scaled)\n",
    "print(f\"Best Parameters: {grid_search_lr.best_params_}\")\n",
    "print(f\"Mean Squared Error: {mean_squared_error(y_test, y_pred_best_lr):.4f}\")\n",
    "print(f\"R^2 Score: {r2_score(y_test, y_pred_best_lr):.4f}\")"
   ]
  },
  {
   "cell_type": "markdown",
   "metadata": {},
   "source": [
    "Evaluación Final en el Conjunto de Prueba"
   ]
  },
  {
   "cell_type": "code",
   "execution_count": 122,
   "metadata": {},
   "outputs": [
    {
     "name": "stdout",
     "output_type": "stream",
     "text": [
      "Test Mean Squared Error: 0.0004\n",
      "Test R^2 Score: 0.9999\n"
     ]
    }
   ],
   "source": [
    "\n",
    "y_pred_test = best_lr.predict(X_test_scaled)\n",
    "mse_test = mean_squared_error(y_test, y_pred_test)\n",
    "r2_test = r2_score(y_test, y_pred_test)\n",
    "\n",
    "print(f\"Test Mean Squared Error: {mse_test:.4f}\")\n",
    "print(f\"Test R^2 Score: {r2_test:.4f}\")"
   ]
  },
  {
   "cell_type": "code",
   "execution_count": 123,
   "metadata": {},
   "outputs": [
    {
     "name": "stdout",
     "output_type": "stream",
     "text": [
      "Cross-Validated R^2 Score: 0.9987 ± 0.0013\n"
     ]
    }
   ],
   "source": [
    "cv_scores = cross_val_score(best_lr, X_train_scaled, y_train, cv=5, scoring='r2')\n",
    "print(f\"Cross-Validated R^2 Score: {cv_scores.mean():.4f} ± {cv_scores.std():.4f}\")\n"
   ]
  },
  {
   "cell_type": "markdown",
   "metadata": {},
   "source": [
    "Presentación de Métricas"
   ]
  },
  {
   "cell_type": "code",
   "execution_count": 124,
   "metadata": {},
   "outputs": [
    {
     "name": "stdout",
     "output_type": "stream",
     "text": [
      "Modelo: Regresión Logística\n",
      "Mejores Parámetros: {'C': 10, 'penalty': 'l2', 'solver': 'lbfgs'}\n",
      "Mean Squared Error (Entrenamiento): 0.0003\n",
      "Mean Squared Error (Prueba): 0.0004\n",
      "R^2 Score (Entrenamiento): 0.9999\n",
      "R^2 Score (Prueba): 0.9999\n",
      "Cross-Validated R^2 Score: 0.9987 ± 0.0013\n"
     ]
    }
   ],
   "source": [
    "print(\"Modelo: Regresión Logística\")\n",
    "print(f\"Mejores Parámetros: {grid_search_lr.best_params_}\")\n",
    "print(f\"Mean Squared Error (Entrenamiento): {mean_squared_error(y_train, best_lr.predict(X_train_scaled)):.4f}\")\n",
    "print(f\"Mean Squared Error (Prueba): {mse_test:.4f}\")\n",
    "print(f\"R^2 Score (Entrenamiento): {r2_score(y_train, best_lr.predict(X_train_scaled)):.4f}\")\n",
    "print(f\"R^2 Score (Prueba): {r2_test:.4f}\")\n",
    "print(f\"Cross-Validated R^2 Score: {cv_scores.mean():.4f} ± {cv_scores.std():.4f}\")\n"
   ]
  },
  {
   "cell_type": "markdown",
   "metadata": {},
   "source": [
    "Código del Modelo Final"
   ]
  },
  {
   "cell_type": "code",
   "execution_count": 125,
   "metadata": {},
   "outputs": [
    {
     "name": "stdout",
     "output_type": "stream",
     "text": [
      "Fitting 5 folds for each of 4 candidates, totalling 20 fits\n",
      "Best Parameters: {'C': 10, 'penalty': 'l2', 'solver': 'lbfgs'}\n",
      "Mean Squared Error (Test): 0.0004\n",
      "R^2 Score (Test): 0.9999\n",
      "Cross-Validated R^2 Score: 0.9987 ± 0.0013\n"
     ]
    }
   ],
   "source": [
    "# Preparación del dataset\n",
    "X = grouped_df.drop(columns=[\n",
    "    'user_uuid', 'course_uuid', 'particion', \n",
    "    's_created_at', 's_submitted_at', 'nota_final_media', \n",
    "    'nota_final_mediana', 'nota_final_varianza'\n",
    "])\n",
    "y = grouped_df['nota_final_materia']\n",
    "\n",
    "# División de datos en entrenamiento y prueba\n",
    "X_train, X_test, y_train, y_test = train_test_split(X, y, test_size=0.2, random_state=42)\n",
    "\n",
    "# Estandarización\n",
    "scaler = StandardScaler()\n",
    "X_train_scaled = scaler.fit_transform(X_train)\n",
    "X_test_scaled = scaler.transform(X_test)\n",
    "\n",
    "# Definición del grid de hiperparámetros para Logistic Regression\n",
    "param_grid_lr = {\n",
    "    'penalty': ['l2'],  # Usar l2 para la regularización\n",
    "    'C': [0.01, 0.1, 1, 10],  # Diferentes valores de regularización\n",
    "    'solver': ['lbfgs']\n",
    "}\n",
    "\n",
    "# Búsqueda de hiperparámetros\n",
    "grid_search_lr = GridSearchCV(LogisticRegression(max_iter=10000), param_grid_lr, cv=5, scoring='r2', n_jobs=-1, verbose=2)\n",
    "grid_search_lr.fit(X_train_scaled, y_train)\n",
    "\n",
    "# Mejor estimador\n",
    "best_lr = grid_search_lr.best_estimator_\n",
    "\n",
    "# Predicción y evaluación\n",
    "y_pred_best_lr = best_lr.predict(X_test_scaled)\n",
    "\n",
    "# Calcular métricas de rendimiento\n",
    "mse_test = mean_squared_error(y_test, y_pred_best_lr)\n",
    "r2_test = r2_score(y_test, y_pred_best_lr)\n",
    "\n",
    "# Imprimir resultados\n",
    "print(f\"Best Parameters: {grid_search_lr.best_params_}\")\n",
    "print(f\"Mean Squared Error (Test): {mse_test:.4f}\")\n",
    "print(f\"R^2 Score (Test): {r2_test:.4f}\")\n",
    "\n",
    "# Validación cruzada\n",
    "cv_scores = cross_val_score(best_lr, X_train_scaled, y_train, cv=5, scoring='r2')\n",
    "print(f\"Cross-Validated R^2 Score: {cv_scores.mean():.4f} ± {cv_scores.std():.4f}\")"
   ]
  },
  {
   "cell_type": "markdown",
   "metadata": {},
   "source": [
    "Descripción del Código\n",
    "\n",
    "Preparación de Datos: Se eliminan columnas irrelevantes y se define la variable objetivo.\n",
    "\n",
    "División de Datos: Se divide el dataset en conjuntos de entrenamiento y prueba.\n",
    "\n",
    "Estandarización: Se escalan las características para mejorar el rendimiento del modelo.\n",
    "\n",
    "Búsqueda de Hiperparámetros: Se configura y ejecuta GridSearchCV para encontrar los mejores parámetros para la regresión logística.\n",
    "\n",
    "Predicción y Evaluación: Se realizan predicciones en el conjunto de prueba y se calculan métricas de rendimiento.\n",
    "\n",
    "Validación Cruzada: Se evalúa el modelo con validación cruzada."
   ]
  },
  {
   "cell_type": "markdown",
   "metadata": {},
   "source": [
    "He elegido la regresión logística como modelo final debido a su excelente rendimiento en términos de R² y error cuadrático medio, así como su robustez demostrada a través de la validación cruzada. Con un R² superior a 0.99 en el conjunto de prueba y un rendimiento consistente en validación cruzada, el modelo no solo predice con alta precisión, sino que también es fácil de interpretar, lo que lo convierte en una opción sólida para nuestras necesidades."
   ]
  }
 ],
 "metadata": {
  "kernelspec": {
   "display_name": "Python 3",
   "language": "python",
   "name": "python3"
  },
  "language_info": {
   "codemirror_mode": {
    "name": "ipython",
    "version": 3
   },
   "file_extension": ".py",
   "mimetype": "text/x-python",
   "name": "python",
   "nbconvert_exporter": "python",
   "pygments_lexer": "ipython3",
   "version": "3.10.7"
  }
 },
 "nbformat": 4,
 "nbformat_minor": 2
}
